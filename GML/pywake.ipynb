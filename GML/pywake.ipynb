{
 "cells": [
  {
   "cell_type": "code",
   "execution_count": 40,
   "id": "c5a2ba7b",
   "metadata": {},
   "outputs": [],
   "source": [
    "# -----------------------------------------------------------------------------\n",
    "# 1) Imports & data inlezen\n",
    "# -----------------------------------------------------------------------------\n",
    "import pandas as pd\n",
    "import numpy as np\n",
    "import networkx as nx\n",
    "\n",
    "# PyWake-imports (zorg dat je 'py_wake' en 'py_wake.wind_turbines' hebt geïnstalleerd)\n",
    "from py_wake import BastankhahGaussian\n",
    "from py_wake.wind_turbines import WindTurbine\n",
    "from py_wake.site import UniformWeibullSite\n",
    "from py_wake.wind_turbines.power_ct_functions import PowerCtTabular\n"
   ]
  },
  {
   "cell_type": "code",
   "execution_count": 30,
   "id": "70ad5e71",
   "metadata": {},
   "outputs": [
    {
     "name": "stdout",
     "output_type": "stream",
     "text": [
      "   Wdir   Ndir  AbsWdir\n",
      "0  0.00   0.00     0.00\n",
      "1 -3.99  25.92    21.93\n",
      "2 -2.18  20.91    18.73\n",
      "3 -0.73  20.91    20.18\n",
      "4  0.89  20.91    21.80\n"
     ]
    }
   ],
   "source": [
    "\n",
    "# Stel: je hebt een dataframe df met kolommen: ['Wdir', 'Ndir']\n",
    "# Hier gebruiken we de kolommen zoals ze in jouw SCMDf dataset zitten.\n",
    "\n",
    "def normalize_angle(angle):\n",
    "    \"\"\"\n",
    "    Brengt een willekeurige hoek in graden terug naar [0, 360).\n",
    "    \"\"\"\n",
    "    return angle % 360\n",
    "\n",
    "def compute_absolute_wind_direction(df):\n",
    "    \"\"\"\n",
    "    Bereken absolute windrichting in graden t.o.v. true north (0-360°).\n",
    "    \"\"\"\n",
    "    # Vang eventuele NaN waardes af:\n",
    "    df = df.copy()\n",
    "    df['Wdir'] = df['Wdir'].fillna(0)\n",
    "    df['Ndir'] = df['Ndir'].fillna(0)\n",
    "    \n",
    "    # Stap 1: optellen van Ndir en Wdir\n",
    "    df['AbsWdir'] = df['Ndir'] + df['Wdir']\n",
    "    \n",
    "    # Stap 2: normaliseren naar 0–360 graden\n",
    "    df['AbsWdir'] = df['AbsWdir'].apply(normalize_angle)\n",
    "    \n",
    "    return df\n",
    "\n",
    "# Voorbeeld: pas op je eigen dataframe toe\n",
    "df = compute_absolute_wind_direction(df)\n",
    "\n",
    "# Controle\n",
    "print(df[['Wdir', 'Ndir', 'AbsWdir']].head())\n"
   ]
  },
  {
   "cell_type": "code",
   "execution_count": 15,
   "id": "3612e58b",
   "metadata": {},
   "outputs": [
    {
     "name": "stdout",
     "output_type": "stream",
     "text": [
      "Voorbeeld turbine-locaties:\n",
      "   TurbID          x           y\n",
      "0       1  3349.8515  5939.23193\n",
      "1       2  3351.0017  6416.64673\n",
      "2       3  3314.7797  6892.18395\n",
      "3       4  3352.0940  7366.14203\n",
      "4       5  3355.3420  7841.20175\n",
      "\n",
      "Voorbeeld wind‐data:\n",
      "   TurbID  Day Tmstamp  Wspd  Wdir   Etmp   Itmp   Ndir  Pab1  Pab2  Pab3  \\\n",
      "0       1    1   00:00   NaN   NaN    NaN    NaN    NaN   NaN   NaN   NaN   \n",
      "1       1    1   00:10  6.17 -3.99  30.73  41.80  25.92   1.0   1.0   1.0   \n",
      "2       1    1   00:20  6.27 -2.18  30.60  41.63  20.91   1.0   1.0   1.0   \n",
      "3       1    1   00:30  6.42 -0.73  30.52  41.52  20.91   1.0   1.0   1.0   \n",
      "4       1    1   00:40  6.25  0.89  30.49  41.38  20.91   1.0   1.0   1.0   \n",
      "\n",
      "   Prtv    Patv  \n",
      "0   NaN     NaN  \n",
      "1 -0.25  494.66  \n",
      "2 -0.24  509.76  \n",
      "3 -0.26  542.53  \n",
      "4 -0.23  509.36  \n"
     ]
    }
   ],
   "source": [
    "# 1.1) Lees turbine‐locaties\n",
    "#     (turbine_location.CSV bevat minstens: TurbID, x_coord, y_coord)\n",
    "df_loc = pd.read_csv('GML/data/turbine_location.csv') \n",
    "# Veronderstel kolommen: ['TurbID', 'x', 'y']\n",
    "# (pas kolomnamen aan indien anders)\n",
    "print(\"Voorbeeld turbine-locaties:\")\n",
    "print(df_loc.head())\n",
    "\n",
    "# 1.2) Lees je wind‐ en vermogensdata \n",
    "#     (wind_power_sdwpf.csv heeft o.a. kolommen: TurbID, Datetime, Wspd, Wdir, Patv, etc.)\n",
    "# df = pd.read_csv('GML/data/wind_power_sdwpf.csv', parse_dates=['Day'])\n",
    "df = pd.read_csv('GML/data/wind_power_sdwpf.csv')\n",
    "print(\"\\nVoorbeeld wind‐data:\")\n",
    "print(df.head())\n",
    "\n",
    "# 1.3) Merge locaties met wind‐meting\n",
    "#     Omdat je voor PyWake alleen x/y en per tijdstip Wdir/Wspd nodig hebt:\n",
    "#     maak een DataFrame waarin per tijdstip (Datetime) en per TurbID \n",
    "#     de Wspd, Wdir gecombineerd staan met de (x,y)-coördinaten.\n",
    "df_merged = df.merge(df_loc, on='TurbID', how='left')\n",
    "# Let op: dit wordt (TurbCount × TimeSteps) regels groot. \n",
    "#        Per tijdstap heb je echter Wspd, Wdir voor élke turbine.  "
   ]
  },
  {
   "cell_type": "code",
   "execution_count": 32,
   "id": "caf7c5ab",
   "metadata": {},
   "outputs": [
    {
     "name": "stdout",
     "output_type": "stream",
     "text": [
      "Aantal turbines op dag 1, tijd 00:10: 134\n",
      "        TurbID  Wspd  AbsWdir\n",
      "1            1  6.17    21.93\n",
      "35281        2  6.85    18.52\n",
      "70561        3  6.36   270.20\n",
      "105841       4  5.65    27.98\n",
      "141121       5  6.01   345.86\n"
     ]
    }
   ],
   "source": [
    "# 1.4) Kies één tijdstap om mee te beginnen (bijv. '2020-01-01 00:10:00')\n",
    "# Filter for day 1 and timestamp '00:10:00'\n",
    "df_t0 = df[(df['Day'] == 1) & (df['Tmstamp'].str.startswith('00:10'))].sort_values('TurbID')\n",
    "\n",
    "print(f\"Aantal turbines op dag 1, tijd 00:10: {len(df_t0)}\")\n",
    "print(df_t0[['TurbID', 'Wspd', 'AbsWdir']].head())\n",
    "\n",
    "# Merge met locatie-data om x/y toe te voegen\n",
    "df_t0 = df_t0.merge(df_loc, on='TurbID', how='left')\n",
    "\n",
    "# Maak numpy‐arrays van Wspd, Wdir, x, y:\n",
    "ws_vec = df_t0['Wspd'].values   # shape = (n_turbines,)\n",
    "wd_vec = df_t0['AbsWdir'].values   # shape = (n_turbines,)\n",
    "x_vec  = df_t0['x'].values      # shape = (n_turbines,)\n",
    "y_vec  = df_t0['y'].values      # shape = (n_turbines,)"
   ]
  },
  {
   "cell_type": "code",
   "execution_count": 48,
   "id": "f959b676",
   "metadata": {},
   "outputs": [],
   "source": [
    "\n",
    "# definieer windsnelheden (b.v. 0 tot 25 m/s met stappen van 1 m/s)\n",
    "ws_array = np.arange(0, 26, 1)\n",
    "\n",
    "# een simpele dummy power-curve:\n",
    "power_array = np.clip((ws_array - 3) * (1500 / (12 - 3)), 0, 1500)\n",
    "\n",
    "# dummy constant ct\n",
    "ct_array = np.full_like(ws_array, 0.8)\n",
    "\n",
    "# Nu maak je het correcte powerCtFunction object\n",
    "powerCtFunction = PowerCtTabular(ws=ws_array, power=power_array, ct=ct_array, power_unit='kW')\n",
    "\n",
    "\n",
    "# Nu pas maak je je turbine-object (LET OP: alleen powerCtFunction gebruiken)\n",
    "turbine = WindTurbine(\n",
    "    name=\"MyTurbine\",\n",
    "    diameter=80,\n",
    "    hub_height=80,\n",
    "    powerCtFunction=powerCtFunction\n",
    ")\n"
   ]
  },
  {
   "cell_type": "code",
   "execution_count": 59,
   "id": "83d6a314",
   "metadata": {},
   "outputs": [],
   "source": [
    "# 2.2) Zet de site op: UniformWeibullSite dient als placeholder omdat we later gemeten Wspd/Wdir injecteren\n",
    "\n",
    "# Aantal sectoren (standaard: 360 graden)\n",
    "n_sectors = 360\n",
    "\n",
    "# Uniforme verdeling over alle sectoren\n",
    "p_wd = np.ones(n_sectors) / n_sectors\n",
    "\n",
    "# Dummy Weibull parameters per sector (dezelfde waarden voor alle sectoren)\n",
    "a = np.full(n_sectors, 2.0)   # scale parameter\n",
    "k = np.full(n_sectors, 2.0)   # shape parameter\n",
    "ti = np.full(n_sectors, 0.10) # turbulentie-intensiteit\n",
    "\n",
    "# Bouw de UniformWeibullSite\n",
    "site = UniformWeibullSite(\n",
    "    p_wd=p_wd,\n",
    "    a=a,\n",
    "    k=k,\n",
    "    ti=ti,\n",
    "    distance= None\n",
    ")\n",
    "\n",
    "\n"
   ]
  },
  {
   "cell_type": "code",
   "execution_count": 49,
   "id": "a34aae14",
   "metadata": {},
   "outputs": [
    {
     "name": "stderr",
     "output_type": "stream",
     "text": [
      "c:\\Users\\daank\\GML\\venv\\Lib\\site-packages\\py_wake\\deficit_models\\gaussian.py:124: UserWarning: The BastankhahGaussian model is not representative of the setup used in the literature. For this, use py_wake.literature.gaussian_models.Bastankhah_PorteAgel_2014 instead\n",
      "  DeprecatedModel.__init__(self, 'py_wake.literature.gaussian_models.Bastankhah_PorteAgel_2014')\n"
     ]
    }
   ],
   "source": [
    "wfm = BastankhahGaussian(site, turbine)"
   ]
  },
  {
   "cell_type": "code",
   "execution_count": 54,
   "id": "dcaf09a4",
   "metadata": {},
   "outputs": [
    {
     "name": "stdout",
     "output_type": "stream",
     "text": [
      "x_vec shape: (134,), dtype: float64\n",
      "y_vec shape: (134,), dtype: float64\n"
     ]
    }
   ],
   "source": [
    "type(x_vec)\n",
    "\n",
    "print(f\"x_vec shape: {x_vec.shape}, dtype: {x_vec.dtype}\")\n",
    "print(f\"y_vec shape: {y_vec.shape}, dtype: {y_vec.dtype}\")\n"
   ]
  },
  {
   "cell_type": "code",
   "execution_count": 52,
   "id": "746e1f6b",
   "metadata": {},
   "outputs": [
    {
     "ename": "ValueError",
     "evalue": "Argument, x(shape=(1, 1, 134)), has unsupported shape. Valid shapes are (), (1), (1,1), (1,1,1), (1,), (1, 1) (interpreted in this order)",
     "output_type": "error",
     "traceback": [
      "\u001b[31m---------------------------------------------------------------------------\u001b[39m",
      "\u001b[31mValueError\u001b[39m                                Traceback (most recent call last)",
      "\u001b[36mCell\u001b[39m\u001b[36m \u001b[39m\u001b[32mIn[52]\u001b[39m\u001b[32m, line 15\u001b[39m\n\u001b[32m     12\u001b[39m x_vec_3d = x_vec.reshape((\u001b[32m1\u001b[39m, \u001b[32m1\u001b[39m, -\u001b[32m1\u001b[39m))  \u001b[38;5;66;03m# shape = (1, 1, n_turbines)\u001b[39;00m\n\u001b[32m     13\u001b[39m y_vec_3d = y_vec.reshape((\u001b[32m1\u001b[39m, \u001b[32m1\u001b[39m, -\u001b[32m1\u001b[39m))  \u001b[38;5;66;03m# shape = (1, 1, n_turbines)\u001b[39;00m\n\u001b[32m---> \u001b[39m\u001b[32m15\u001b[39m sim_res = \u001b[43mwfm\u001b[49m\u001b[43m(\u001b[49m\u001b[43mx_vec_3d\u001b[49m\u001b[43m,\u001b[49m\u001b[43m \u001b[49m\u001b[43my_vec_3d\u001b[49m\u001b[43m,\u001b[49m\u001b[43m \u001b[49m\u001b[43mwd\u001b[49m\u001b[43m=\u001b[49m\u001b[43m[\u001b[49m\u001b[43mwd_t0\u001b[49m\u001b[43m]\u001b[49m\u001b[43m,\u001b[49m\u001b[43m \u001b[49m\u001b[43mws\u001b[49m\u001b[43m=\u001b[49m\u001b[43m[\u001b[49m\u001b[43mws_t0\u001b[49m\u001b[43m]\u001b[49m\u001b[43m)\u001b[49m\n\u001b[32m     17\u001b[39m \u001b[38;5;66;03m# NB: we nemen hier aan dat alle turbines op t0 dezelfde Wdir en Wspd hebben. \u001b[39;00m\n\u001b[32m     18\u001b[39m \u001b[38;5;66;03m#     Als je _per turbine_ verschillende Wdir/Wspd wilt, kun je per turbine\u001b[39;00m\n\u001b[32m     19\u001b[39m \u001b[38;5;66;03m#     _meerdere_ posities simuleren, of er is een uitgebreidere Site‐setup nodig.\u001b[39;00m\n\u001b[32m   (...)\u001b[39m\u001b[32m     26\u001b[39m \u001b[38;5;66;03m# en dan de resulterende efficiency‐waarden extraheren. Dat kan langzamer lopen,\u001b[39;00m\n\u001b[32m     27\u001b[39m \u001b[38;5;66;03m# maar is in principe mogelijk.\u001b[39;00m\n",
      "\u001b[36mFile \u001b[39m\u001b[32mc:\\Users\\daank\\GML\\venv\\Lib\\site-packages\\py_wake\\wind_farm_models\\wind_farm_model.py:140\u001b[39m, in \u001b[36mWindFarmModel.__call__\u001b[39m\u001b[34m(self, x, y, h, type, wd, ws, time, verbose, n_cpu, wd_chunks, ws_chunks, return_simulationResult, **kwargs)\u001b[39m\n\u001b[32m    137\u001b[39m     wd = np.zeros(\u001b[38;5;28mlen\u001b[39m(time))\n\u001b[32m    138\u001b[39m     ws = np.zeros(\u001b[38;5;28mlen\u001b[39m(time))\n\u001b[32m--> \u001b[39m\u001b[32m140\u001b[39m res = \u001b[38;5;28;43mself\u001b[39;49m\u001b[43m.\u001b[49m\u001b[43m_run\u001b[49m\u001b[43m(\u001b[49m\u001b[43mx\u001b[49m\u001b[43m,\u001b[49m\u001b[43m \u001b[49m\u001b[43my\u001b[49m\u001b[43m,\u001b[49m\u001b[43m \u001b[49m\u001b[43mh\u001b[49m\u001b[43m=\u001b[49m\u001b[43mh\u001b[49m\u001b[43m,\u001b[49m\u001b[43m \u001b[49m\u001b[38;5;28;43mtype\u001b[39;49m\u001b[43m=\u001b[49m\u001b[38;5;28;43mtype\u001b[39;49m\u001b[43m,\u001b[49m\u001b[43m \u001b[49m\u001b[43mwd\u001b[49m\u001b[43m=\u001b[49m\u001b[43mwd\u001b[49m\u001b[43m,\u001b[49m\u001b[43m \u001b[49m\u001b[43mws\u001b[49m\u001b[43m=\u001b[49m\u001b[43mws\u001b[49m\u001b[43m,\u001b[49m\u001b[43m \u001b[49m\u001b[43mtime\u001b[49m\u001b[43m=\u001b[49m\u001b[43mtime\u001b[49m\u001b[43m,\u001b[49m\u001b[43m \u001b[49m\u001b[43mverbose\u001b[49m\u001b[43m=\u001b[49m\u001b[43mverbose\u001b[49m\u001b[43m,\u001b[49m\n\u001b[32m    141\u001b[39m \u001b[43m                \u001b[49m\u001b[43mn_cpu\u001b[49m\u001b[43m=\u001b[49m\u001b[43mn_cpu\u001b[49m\u001b[43m,\u001b[49m\u001b[43m \u001b[49m\u001b[43mwd_chunks\u001b[49m\u001b[43m=\u001b[49m\u001b[43mwd_chunks\u001b[49m\u001b[43m,\u001b[49m\u001b[43m \u001b[49m\u001b[43mws_chunks\u001b[49m\u001b[43m=\u001b[49m\u001b[43mws_chunks\u001b[49m\u001b[43m,\u001b[49m\u001b[43m \u001b[49m\u001b[43m*\u001b[49m\u001b[43m*\u001b[49m\u001b[43mkwargs\u001b[49m\u001b[43m)\u001b[49m\n\u001b[32m    142\u001b[39m \u001b[38;5;28;01mif\u001b[39;00m return_simulationResult:\n\u001b[32m    143\u001b[39m     WS_eff_ilk, TI_eff_ilk, power_ilk, ct_ilk, localWind, kwargs_ilk = res\n",
      "\u001b[36mFile \u001b[39m\u001b[32mc:\\Users\\daank\\GML\\venv\\Lib\\site-packages\\py_wake\\wind_farm_models\\wind_farm_model.py:70\u001b[39m, in \u001b[36mWindFarmModel._run\u001b[39m\u001b[34m(self, x, y, h, type, wd, ws, time, verbose, n_cpu, wd_chunks, ws_chunks, **kwargs)\u001b[39m\n\u001b[32m     67\u001b[39m     \u001b[38;5;28;01mraise\u001b[39;00m \u001b[38;5;167;01mValueError\u001b[39;00m(\n\u001b[32m     68\u001b[39m         \u001b[33m'\u001b[39m\u001b[33mCustom *yaw*-keyword arguments not allowed to avoid confusion with the default \u001b[39m\u001b[33m\"\u001b[39m\u001b[33myaw\u001b[39m\u001b[33m\"\u001b[39m\u001b[33m keyword\u001b[39m\u001b[33m'\u001b[39m)\n\u001b[32m     69\u001b[39m kwargs.update(\u001b[38;5;28mdict\u001b[39m(x=x, y=y, h=h))\n\u001b[32m---> \u001b[39m\u001b[32m70\u001b[39m kwargs_ilk = {k + \u001b[33m'\u001b[39m\u001b[33m_ilk\u001b[39m\u001b[33m'\u001b[39m: \u001b[43marg2ilk\u001b[49m\u001b[43m(\u001b[49m\u001b[43mk\u001b[49m\u001b[43m,\u001b[49m\u001b[43m \u001b[49m\u001b[43mv\u001b[49m\u001b[43m,\u001b[49m\u001b[43m \u001b[49m\u001b[43mI\u001b[49m\u001b[43m,\u001b[49m\u001b[43m \u001b[49m\u001b[43mL\u001b[49m\u001b[43m,\u001b[49m\u001b[43m \u001b[49m\u001b[43mK\u001b[49m\u001b[43m)\u001b[49m \u001b[38;5;28;01mfor\u001b[39;00m k, v \u001b[38;5;129;01min\u001b[39;00m kwargs.items()}\n\u001b[32m     72\u001b[39m \u001b[38;5;28;01mreturn\u001b[39;00m \u001b[38;5;28mself\u001b[39m.calc_wt_interaction(h_i=h, type_i=\u001b[38;5;28mtype\u001b[39m,\n\u001b[32m     73\u001b[39m                                 wd=wd, ws=ws, time=time,\n\u001b[32m     74\u001b[39m                                 n_cpu=n_cpu, wd_chunks=wd_chunks, ws_chunks=ws_chunks,\n\u001b[32m     75\u001b[39m                                 **kwargs_ilk)\n",
      "\u001b[36mFile \u001b[39m\u001b[32mc:\\Users\\daank\\GML\\venv\\Lib\\site-packages\\py_wake\\utils\\functions.py:69\u001b[39m, in \u001b[36marg2ilk\u001b[39m\u001b[34m(k, v, I, L, K)\u001b[39m\n\u001b[32m     67\u001b[39m \u001b[38;5;28;01melse\u001b[39;00m:\n\u001b[32m     68\u001b[39m     valid_shapes = \u001b[33mf\u001b[39m\u001b[33m\"\u001b[39m\u001b[33m(), (\u001b[39m\u001b[38;5;132;01m{\u001b[39;00mI\u001b[38;5;132;01m}\u001b[39;00m\u001b[33m), (\u001b[39m\u001b[38;5;132;01m{\u001b[39;00mI\u001b[38;5;132;01m}\u001b[39;00m\u001b[33m,\u001b[39m\u001b[38;5;132;01m{\u001b[39;00mL\u001b[38;5;132;01m}\u001b[39;00m\u001b[33m), (\u001b[39m\u001b[38;5;132;01m{\u001b[39;00mI\u001b[38;5;132;01m}\u001b[39;00m\u001b[33m,\u001b[39m\u001b[38;5;132;01m{\u001b[39;00mL\u001b[38;5;132;01m}\u001b[39;00m\u001b[33m,\u001b[39m\u001b[38;5;132;01m{\u001b[39;00mK\u001b[38;5;132;01m}\u001b[39;00m\u001b[33m), (\u001b[39m\u001b[38;5;132;01m{\u001b[39;00mL\u001b[38;5;132;01m}\u001b[39;00m\u001b[33m,), (\u001b[39m\u001b[38;5;132;01m{\u001b[39;00mL\u001b[38;5;132;01m}\u001b[39;00m\u001b[33m, \u001b[39m\u001b[38;5;132;01m{\u001b[39;00mK\u001b[38;5;132;01m}\u001b[39;00m\u001b[33m)\u001b[39m\u001b[33m\"\u001b[39m\n\u001b[32m---> \u001b[39m\u001b[32m69\u001b[39m     \u001b[38;5;28;01mraise\u001b[39;00m \u001b[38;5;167;01mValueError\u001b[39;00m(\n\u001b[32m     70\u001b[39m         \u001b[33mf\u001b[39m\u001b[33m\"\u001b[39m\u001b[33mArgument, \u001b[39m\u001b[38;5;132;01m{\u001b[39;00mk\u001b[38;5;132;01m}\u001b[39;00m\u001b[33m(shape=\u001b[39m\u001b[38;5;132;01m{\u001b[39;00mv.shape\u001b[38;5;132;01m}\u001b[39;00m\u001b[33m), has unsupported shape. Valid shapes are \u001b[39m\u001b[38;5;132;01m{\u001b[39;00mvalid_shapes\u001b[38;5;132;01m}\u001b[39;00m\u001b[33m (interpreted in this order)\u001b[39m\u001b[33m\"\u001b[39m)\n\u001b[32m     71\u001b[39m \u001b[38;5;28;01mreturn\u001b[39;00m v\n",
      "\u001b[31mValueError\u001b[39m: Argument, x(shape=(1, 1, 134)), has unsupported shape. Valid shapes are (), (1), (1,1), (1,1,1), (1,), (1, 1) (interpreted in this order)"
     ]
    }
   ],
   "source": [
    "# -----------------------------------------------------------------------------\n",
    "# 3) Wake‐simulatie uitvoeren voor tijdstip t0\n",
    "# -----------------------------------------------------------------------------\n",
    "# PyWake verwacht dat Wdir en Wspd als “lists” of 1D‐arrays binnenkomen:\n",
    "#   - wd = [waarde in graden]\n",
    "#   - ws = [waarde in m/s]\n",
    "#\n",
    "# En x,y-coördinaten als arrays van lengte n_turbines.\n",
    "wd_t0 = df_t0['AbsWdir'].mean()\n",
    "ws_t0 = df_t0['Wspd'].mean()\n",
    "\n",
    "x_vec_3d = x_vec.reshape((1, 1, -1))  # shape = (1, 1, n_turbines)\n",
    "y_vec_3d = y_vec.reshape((1, 1, -1))  # shape = (1, 1, n_turbines)\n",
    "\n",
    "sim_res = wfm(x_vec_3d, y_vec_3d, wd=[wd_t0], ws=[ws_t0])\n",
    "\n",
    "# NB: we nemen hier aan dat alle turbines op t0 dezelfde Wdir en Wspd hebben. \n",
    "#     Als je _per turbine_ verschillende Wdir/Wspd wilt, kun je per turbine\n",
    "#     _meerdere_ posities simuleren, of er is een uitgebreidere Site‐setup nodig.\n",
    "#\n",
    "# De methode hierboven (“wd=[wd0], ws=[ws0]”) is puur bedoeld om te laten zien\n",
    "# hoe je één uniforme windvoorwaarde doorgeeft. \n",
    "#\n",
    "# Als je écht per turbine verschillende Wdir/​Wspd hebt, zou je voor elke turbine\n",
    "# apart een simulatie moeten draaien (met dezelfde set x_vec/y_vec), \n",
    "# en dan de resulterende efficiency‐waarden extraheren. Dat kan langzamer lopen,\n",
    "# maar is in principe mogelijk."
   ]
  },
  {
   "cell_type": "code",
   "execution_count": null,
   "id": "973362a6",
   "metadata": {},
   "outputs": [],
   "source": []
  }
 ],
 "metadata": {
  "kernelspec": {
   "display_name": "venv",
   "language": "python",
   "name": "python3"
  },
  "language_info": {
   "codemirror_mode": {
    "name": "ipython",
    "version": 3
   },
   "file_extension": ".py",
   "mimetype": "text/x-python",
   "name": "python",
   "nbconvert_exporter": "python",
   "pygments_lexer": "ipython3",
   "version": "3.12.4"
  }
 },
 "nbformat": 4,
 "nbformat_minor": 5
}
